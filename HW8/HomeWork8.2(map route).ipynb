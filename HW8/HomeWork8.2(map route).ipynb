{
 "cells": [
  {
   "cell_type": "code",
   "execution_count": 1,
   "id": "1376f7a1",
   "metadata": {},
   "outputs": [
    {
     "name": "stdout",
     "output_type": "stream",
     "text": [
      "1028 237\n",
      "759 186\n",
      "740 335\n",
      "732 391\n",
      "672 505\n",
      "649 565\n",
      "632 629\n",
      "621 650\n",
      "517 576\n",
      "561 507\n"
     ]
    }
   ],
   "source": [
    "import cv2\n",
    "import numpy as np\n",
    "\n",
    "points = np.zeros((100, 2), np.int32)\n",
    "count = 0\n",
    "distPix = 0\n",
    "\n",
    "def draw_line(event, x, y, flags, params):\n",
    "    global mouseX, mouseY, count\n",
    "    if event == cv2.EVENT_LBUTTONDOWN:\n",
    "        cv2.circle(map_route, (x, y), 3, (255, 0, 0), -1)\n",
    "        points[count] = x, y\n",
    "        count += 1\n",
    "        print(x,y)\n",
    "        if count >= 2:\n",
    "            cv2.line(map_route, points[count - 2], points[count - 1], (0, 0, 0), thickness=3, lineType=cv2.LINE_AA)\n",
    "\n",
    "\n",
    "map_route = cv2.imread('map.png')\n",
    "\n",
    "while True:\n",
    "\n",
    "    cv2.imshow('map', map_route)\n",
    "    cv2.setMouseCallback('map', draw_line)\n",
    "\n",
    "    if cv2.waitKey(1) & 0xFF == 27:\n",
    "        if count >= 2:\n",
    "            cv2.imwrite('resultMap.png', map_route)\n",
    "        break\n",
    "cv2.destroyAllWindows()"
   ]
  },
  {
   "cell_type": "code",
   "execution_count": 2,
   "id": "aaddb6a8",
   "metadata": {},
   "outputs": [
    {
     "ename": "error",
     "evalue": "OpenCV(4.6.0) D:\\a\\opencv-python\\opencv-python\\opencv\\modules\\imgproc\\src\\imgwarp.cpp:3144: error: (-215:Assertion failed) _src.total() > 0 in function 'cv::warpPerspective'\n",
     "output_type": "error",
     "traceback": [
      "\u001b[1;31m---------------------------------------------------------------------------\u001b[0m",
      "\u001b[1;31merror\u001b[0m                                     Traceback (most recent call last)",
      "Cell \u001b[1;32mIn[2], line 15\u001b[0m\n\u001b[0;32m     13\u001b[0m img \u001b[38;5;241m=\u001b[39m cv2\u001b[38;5;241m.\u001b[39mimread(\u001b[38;5;124m'\u001b[39m\u001b[38;5;124mroad.png\u001b[39m\u001b[38;5;124m'\u001b[39m) \u001b[38;5;66;03m# Read the test img\u001b[39;00m\n\u001b[0;32m     14\u001b[0m img \u001b[38;5;241m=\u001b[39m img[\u001b[38;5;241m450\u001b[39m:(\u001b[38;5;241m450\u001b[39m\u001b[38;5;241m+\u001b[39mIMAGE_H), \u001b[38;5;241m0\u001b[39m:IMAGE_W] \u001b[38;5;66;03m# Apply np slicing for ROI crop\u001b[39;00m\n\u001b[1;32m---> 15\u001b[0m warped_img \u001b[38;5;241m=\u001b[39m \u001b[43mcv2\u001b[49m\u001b[38;5;241;43m.\u001b[39;49m\u001b[43mwarpPerspective\u001b[49m\u001b[43m(\u001b[49m\u001b[43mimg\u001b[49m\u001b[43m,\u001b[49m\u001b[43m \u001b[49m\u001b[43mM\u001b[49m\u001b[43m,\u001b[49m\u001b[43m \u001b[49m\u001b[43m(\u001b[49m\u001b[43mIMAGE_W\u001b[49m\u001b[43m,\u001b[49m\u001b[43m \u001b[49m\u001b[43mIMAGE_H\u001b[49m\u001b[43m)\u001b[49m\u001b[43m)\u001b[49m \u001b[38;5;66;03m# Image warping\u001b[39;00m\n\u001b[0;32m     16\u001b[0m plt\u001b[38;5;241m.\u001b[39mimshow(cv2\u001b[38;5;241m.\u001b[39mcvtColor(warped_img, cv2\u001b[38;5;241m.\u001b[39mCOLOR_BGR2RGB)) \u001b[38;5;66;03m# Show results\u001b[39;00m\n\u001b[0;32m     17\u001b[0m plt\u001b[38;5;241m.\u001b[39mshow()\n",
      "\u001b[1;31merror\u001b[0m: OpenCV(4.6.0) D:\\a\\opencv-python\\opencv-python\\opencv\\modules\\imgproc\\src\\imgwarp.cpp:3144: error: (-215:Assertion failed) _src.total() > 0 in function 'cv::warpPerspective'\n"
     ]
    }
   ],
   "source": [
    "import cv2\n",
    "import numpy as np\n",
    "import matplotlib.pyplot as plt\n",
    "\n",
    "IMAGE_H = 223\n",
    "IMAGE_W = 1280\n",
    "\n",
    "src = np.float32([[0, IMAGE_H], [1207, IMAGE_H], [0, 0], [IMAGE_W, 0]])\n",
    "dst = np.float32([[569, IMAGE_H], [711, IMAGE_H], [0, 0], [IMAGE_W, 0]])\n",
    "M = cv2.getPerspectiveTransform(src, dst) # The transformation matrix\n",
    "Minv = cv2.getPerspectiveTransform(dst, src) # Inverse transformation\n",
    "\n",
    "img = cv2.imread('road.png') # Read the test img\n",
    "img = img[450:(450+IMAGE_H), 0:IMAGE_W] # Apply np slicing for ROI crop\n",
    "warped_img = cv2.warpPerspective(img, M, (IMAGE_W, IMAGE_H)) # Image warping\n",
    "plt.imshow(cv2.cvtColor(warped_img, cv2.COLOR_BGR2RGB)) # Show results\n",
    "plt.show()"
   ]
  },
  {
   "cell_type": "code",
   "execution_count": null,
   "id": "d5093cb6",
   "metadata": {},
   "outputs": [],
   "source": []
  }
 ],
 "metadata": {
  "kernelspec": {
   "display_name": "Python 3 (ipykernel)",
   "language": "python",
   "name": "python3"
  },
  "language_info": {
   "codemirror_mode": {
    "name": "ipython",
    "version": 3
   },
   "file_extension": ".py",
   "mimetype": "text/x-python",
   "name": "python",
   "nbconvert_exporter": "python",
   "pygments_lexer": "ipython3",
   "version": "3.9.12"
  }
 },
 "nbformat": 4,
 "nbformat_minor": 5
}
