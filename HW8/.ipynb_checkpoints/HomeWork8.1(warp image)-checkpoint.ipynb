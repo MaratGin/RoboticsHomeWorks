{
 "cells": [
  {
   "cell_type": "code",
   "execution_count": null,
   "id": "cdcf6bf0",
   "metadata": {},
   "outputs": [],
   "source": [
    "import cv2\n",
    "import numpy as np\n",
    "\n",
    "\n",
    "\n",
    "def draw_circle(event, x, y, flags, param):\n",
    "    global mouseX, mouseY, count\n",
    "    if event == cv2.EVENT_LBUTTONDOWN:\n",
    "        cv2.circle(img, (x, y), 3, (255, 0, 0), -1)\n",
    "        mouseX, mouseY = x, y\n",
    "        points[count] = x, y\n",
    "        count += 1\n",
    "        print(x,y)\n",
    "\n",
    "count = 0\n",
    "points = np.zeros((4, 2))\n",
    "img = cv2.imread('cardDeck.jpg')\n",
    "\n",
    "\n",
    "while True:\n",
    "\n",
    "    cv2.imshow('deck', img)\n",
    "    cv2.setMouseCallback('deck', draw_circle)\n",
    "    \n",
    "    if count == 4:\n",
    "        height, width = 400, 300\n",
    "        pts1 = np.float32([points[0], points[1], points[2], points[3]])\n",
    "        pts2 = np.float32([[0, 0], [width, 0], [0, height], [width, height]])\n",
    "        matrix = cv2.getPerspectiveTransform(pts1, pts2)\n",
    "        imgOutput = cv2.warpPerspective(img, matrix, (width, height))\n",
    "        cv2.imshow(\"Out\", imgOutput)\n",
    "\n",
    "    if cv2.waitKey(1) & 0xFF == 27:\n",
    "        break\n",
    "        \n",
    "cv2.destroyAllWindows()"
   ]
  },
  {
   "cell_type": "code",
   "execution_count": null,
   "id": "5a96b6c9",
   "metadata": {},
   "outputs": [],
   "source": []
  },
  {
   "cell_type": "code",
   "execution_count": null,
   "id": "1d29fb16",
   "metadata": {},
   "outputs": [],
   "source": []
  }
 ],
 "metadata": {
  "kernelspec": {
   "display_name": "Python 3 (ipykernel)",
   "language": "python",
   "name": "python3"
  },
  "language_info": {
   "codemirror_mode": {
    "name": "ipython",
    "version": 3
   },
   "file_extension": ".py",
   "mimetype": "text/x-python",
   "name": "python",
   "nbconvert_exporter": "python",
   "pygments_lexer": "ipython3",
   "version": "3.9.12"
  }
 },
 "nbformat": 4,
 "nbformat_minor": 5
}
