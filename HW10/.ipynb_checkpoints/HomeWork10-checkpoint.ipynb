{
 "cells": [
  {
   "cell_type": "code",
   "execution_count": 10,
   "id": "8bd94685",
   "metadata": {},
   "outputs": [
    {
     "name": "stdout",
     "output_type": "stream",
     "text": [
      "1\n",
      "2\n",
      "3\n",
      "4\n",
      "6\n",
      "9\n",
      "11\n",
      "20\n",
      "42\n",
      "46\n"
     ]
    }
   ],
   "source": [
    "import random\n",
    "import cv2\n",
    " \n",
    "    \n",
    "    \n",
    "def add_noise(img, percentage):\n",
    "    row , col = img.shape\n",
    "     \n",
    "    number_of_pixels = row * col\n",
    "    perc = percentage / 100\n",
    "    for i in range(round(round(number_of_pixels * perc) / 4) ):\n",
    "       \n",
    "        # Pick a random y coordinate\n",
    "        y_coord=random.randint(0, row - 1)\n",
    "         \n",
    "        # Pick a random x coordinate\n",
    "        x_coord=random.randint(0, col - 1)\n",
    "         \n",
    "        # Color that pixel to white\n",
    "        img[y_coord][x_coord] = 255\n",
    "         \n",
    "    for i in range(round(round(number_of_pixels * perc) / 4)):\n",
    "       \n",
    "        # Pick a random y coordinate\n",
    "        y_coord=random.randint(0, row - 1)\n",
    "         \n",
    "        # Pick a random x coordinate\n",
    "        x_coord=random.randint(0, col - 1)\n",
    "         \n",
    "        # Color that pixel to black\n",
    "        img[y_coord][x_coord] = 0\n",
    "         \n",
    "    return img\n",
    "\n",
    "def on_change(value):\n",
    "    global noise\n",
    "    print(value)\n",
    "    noise = value\n",
    "    salted = add_noise(img, value)\n",
    "    cv2.imshow('salt-pepper noise', salted)\n",
    "    cv2.waitKey(1)\n",
    "    \n",
    "\n",
    "img = cv2.imread('yachtGirl.jpg',\n",
    "                 cv2.IMREAD_GRAYSCALE)\n",
    "windowName = 'salt-pepper noise'\n",
    "cv2.imshow(windowName, add_noise(img, 0))\n",
    "\n",
    "cv2.createTrackbar('noise:', windowName, 0, 100, on_change)\n",
    " \n",
    "cv2.waitKey(0)\n",
    "cv2.destroyAllWindows()\n",
    " "
   ]
  },
  {
   "cell_type": "code",
   "execution_count": 11,
   "id": "0b1dba73",
   "metadata": {},
   "outputs": [],
   "source": [
    "def median_blur(img, kernel_size):\n",
    "    return cv2.medianBlur(img, kernel_size)\n",
    "\n",
    "def gaussian_blur(img, kernel_size):\n",
    "    return cv2.GaussianBlur(img, (kernel_size, kernel_size), sigmaX=0, sigmaY=0)\n",
    "\n",
    "def bilateral_filter(img, kernel_size, sigma_color, sigma_space):\n",
    "    return cv2.bilateralFilter(img, kernel_size, sigma_color, sigma_space)\n",
    "\n",
    "img = cv2.imread('yachtGirl.jpg', cv2.IMREAD_GRAYSCALE)\n",
    "noised = add_noise(img, 30)\n",
    "cv2.imshow('Original',img,)\n",
    "cv2.imshow('Median blur',median_blur(noised, 5),)\n",
    "cv2.imshow('Gaussian blur',gaussian_blur(noised, 5),)\n",
    "cv2.imshow('Bilateral blur',bilateral_filter(noised, 9, 75, 75))\n",
    "cv2.waitKey(0)\n",
    "cv2.destroyAllWindows()"
   ]
  }
 ],
 "metadata": {
  "kernelspec": {
   "display_name": "Python 3 (ipykernel)",
   "language": "python",
   "name": "python3"
  },
  "language_info": {
   "codemirror_mode": {
    "name": "ipython",
    "version": 3
   },
   "file_extension": ".py",
   "mimetype": "text/x-python",
   "name": "python",
   "nbconvert_exporter": "python",
   "pygments_lexer": "ipython3",
   "version": "3.9.12"
  }
 },
 "nbformat": 4,
 "nbformat_minor": 5
}
